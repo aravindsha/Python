{
 "cells": [
  {
   "cell_type": "code",
   "execution_count": null,
   "metadata": {},
   "outputs": [],
   "source": [
    "# int datatype\n",
    "\n",
    "# the numbers without decimal point is int numbers\n",
    "# it also know as whole numbers or integreal value\n",
    "# There are only one type to represent the integral value is int\n",
    "# there is not byte , short , int , long such type of datatypes"
   ]
  },
  {
   "cell_type": "code",
   "execution_count": null,
   "metadata": {},
   "outputs": [],
   "source": [
    "# There are four ways to represent the integral values\n",
    "\n",
    "# Decimal form        ( base 10) 0-9\n",
    "# Binary form         ( base 2 ) 0-1\n",
    "# Octal form          ( base 8 ) 0-8\n",
    "# Hexadecimal form    ( base 16) 0-9 a-f (or) A-F"
   ]
  },
  {
   "cell_type": "code",
   "execution_count": 3,
   "metadata": {},
   "outputs": [
    {
     "name": "stdout",
     "output_type": "stream",
     "text": [
      "3412\n"
     ]
    }
   ],
   "source": [
    "# Decimal form ( Base 10 )\n",
    "\n",
    "# This is a default system\n",
    "# The allowed digits are 0-9\n",
    "# The declaration is like \n",
    "a = 3412\n",
    "print(a)"
   ]
  },
  {
   "cell_type": "code",
   "execution_count": 2,
   "metadata": {},
   "outputs": [
    {
     "name": "stdout",
     "output_type": "stream",
     "text": [
      "15\n"
     ]
    }
   ],
   "source": [
    "# Binary form ( Base 2 )\n",
    "\n",
    "# The allowed digits are 0 and 1\n",
    "# So you declare a value like\n",
    "b = 11111     # This is consider as a decimal form only\n",
    "# To Declare a binary form the value should be prefixed with 0b or 0B\n",
    "b = 0b1111   # This is a declaration of binary form\n",
    "print(a) # if you are print the a binary value\n",
    "# it can be converted into decimal form and print\n",
    "# The output is 31"
   ]
  },
  {
   "cell_type": "code",
   "execution_count": null,
   "metadata": {},
   "outputs": [],
   "source": [
    "# Octal form ( Base 8)\n",
    "\n",
    "# The allowed digits are 0-8\n",
    "# so you declare a value like\n",
    "c = 0c1234567  # This is the correct form of decalaring a octal form\n",
    "# To declare a octal form the value should be prefixed with 0c or 0C\n",
    "# c= 0c8  This type of declaration will give an error\n",
    "# because the allowed digits in octal form is 0-8 only\n",
    "# above 7 like 8 , 9 are not allowed in octal form"
   ]
  },
  {
   "cell_type": "code",
   "execution_count": 4,
   "metadata": {},
   "outputs": [],
   "source": [
    "# Hexadecimal form ( Base 16 )\n",
    "\n",
    "# The allowed characters are 0-9 , a-f (or) A-F\n",
    "# To declare a hexadecimal form\n",
    "d =0xface1234  # This is the correct form of declaring a hexadecimal form\n",
    "# to declare a hexadecimal form the valu will be prefixed with 0x "
   ]
  },
  {
   "cell_type": "code",
   "execution_count": null,
   "metadata": {},
   "outputs": [],
   "source": [
    "# Base converisons\n",
    "\n",
    "# The python provides three built-in functions for base conversion\n",
    "\n",
    "# bin()  --> to convert any type to int type\n",
    "# oct()  --> to convert any type to octal type\n",
    "# hex()  --> to convert any type to hexadecimal type"
   ]
  },
  {
   "cell_type": "code",
   "execution_count": null,
   "metadata": {},
   "outputs": [],
   "source": [
    "# Binary base conversion\n",
    "\n",
    "# In this we convert a any type to bin by using two methods\n",
    "# Directly using a value\n",
    "# Declare a value a use the variable name\n",
    "\n",
    "e = 10\n",
    "bin(e)  #--> converting decimal value into binary\n",
    "\n",
    "f = 0o10\n",
    "bin(f)  #--> converting octal value into binary\n",
    "\n",
    "g = 0xface123\n",
    "bin(g)  #--> converting hexadecimal value into binary\n",
    "\n",
    "# we are using the value directly like\n",
    "\n",
    "bin(10)\n",
    "bin(0o123)\n",
    "bin(0xfa123)"
   ]
  },
  {
   "cell_type": "code",
   "execution_count": null,
   "metadata": {},
   "outputs": [],
   "source": [
    "# octal base conversion\n",
    "\n",
    "# In this we convert a any type to octal by using two methods\n",
    "# Directly using a value\n",
    "# Declare a value a use the variable name\n",
    "\n",
    "h = 10\n",
    "oct(h)  #--> converting decimal into octal\n",
    "\n",
    "i = 0b111\n",
    "oct(i)  #--> converting binary into octal\n",
    "\n",
    "j = 0xfa234\n",
    "oct(j)  #--> converting hexadecimal into octal\n",
    "\n",
    "# we are directing using a value like\n",
    "\n",
    "oct(10)\n",
    "oct(0b1111)\n",
    "oct(0x123fad)"
   ]
  },
  {
   "cell_type": "code",
   "execution_count": null,
   "metadata": {},
   "outputs": [],
   "source": [
    "# hexadecimal base conversion\n",
    "\n",
    "# In this we convert a any type to hexadecimal by using two methods\n",
    "# Directly using a value\n",
    "# Declare a value a use the variable name\n",
    "\n",
    "k =10\n",
    "hex(k)  #--> converting decimal into hexadecimal\n",
    "\n",
    "l = 0b1111\n",
    "hex(l)  #--> converting binary into hexadecimal \n",
    "\n",
    "m = 0o1237\n",
    "hex(m)  #--> converting octal into hexadecimal"
   ]
  },
  {
   "cell_type": "code",
   "execution_count": null,
   "metadata": {},
   "outputs": [],
   "source": [
    "# There is no function to convert any type into decimal form\n",
    "# because the default is decimal form\n",
    "# it automatically converts all type into decimal form"
   ]
  }
 ],
 "metadata": {
  "kernelspec": {
   "display_name": "Python 3",
   "language": "python",
   "name": "python3"
  },
  "language_info": {
   "codemirror_mode": {
    "name": "ipython",
    "version": 3
   },
   "file_extension": ".py",
   "mimetype": "text/x-python",
   "name": "python",
   "nbconvert_exporter": "python",
   "pygments_lexer": "ipython3",
   "version": "3.7.3"
  }
 },
 "nbformat": 4,
 "nbformat_minor": 2
}
